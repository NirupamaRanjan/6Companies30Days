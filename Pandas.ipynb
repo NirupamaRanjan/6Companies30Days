{
  "nbformat": 4,
  "nbformat_minor": 0,
  "metadata": {
    "colab": {
      "provenance": [],
      "toc_visible": true,
      "authorship_tag": "ABX9TyOCV91ORk/cUu0mUipFOEKv",
      "include_colab_link": true
    },
    "kernelspec": {
      "name": "python3",
      "display_name": "Python 3"
    },
    "language_info": {
      "name": "python"
    }
  },
  "cells": [
    {
      "cell_type": "markdown",
      "metadata": {
        "id": "view-in-github",
        "colab_type": "text"
      },
      "source": [
        "<a href=\"https://colab.research.google.com/github/NirupamaRanjan/6Companies30Days/blob/main/Pandas.ipynb\" target=\"_parent\"><img src=\"https://colab.research.google.com/assets/colab-badge.svg\" alt=\"Open In Colab\"/></a>"
      ]
    },
    {
      "cell_type": "code",
      "execution_count": 2,
      "metadata": {
        "id": "XDMLnuyo646T"
      },
      "outputs": [],
      "source": [
        "import pandas as pd"
      ]
    },
    {
      "cell_type": "code",
      "source": [
        "#Series (one dimensional array holding data of any type)\n",
        "fruits=[\"Mango\",\"Banana\",\"Kiwi\",\"Apple\"] #list\n",
        "fs=pd.Series(fruits) #creating a series out of list\n",
        "print(fs) #if no label is provided the index is the by default label\n",
        "\n",
        "x=[\"f1\",\"f2\",\"f3\",\"f4\"]\n",
        "fs=pd.Series(fruits ,index=x) #index is for giving the label\n",
        "print(fs)\n",
        "\n",
        "fruits={\"f1\":\"Mango\", \"f2\":\"Banana\" , \"f3\": \"Kiwi\" , \"f4\":\"Apple\"}  #key/value object like a dictionary as Series\n",
        "fs=pd.Series(fruits)\n",
        "print(fs)\n",
        "\n",
        "fs=pd.Series(fruits, index=[\"f1\",\"f2\"]) #create series using only f1 and f2\n",
        "print(fs)"
      ],
      "metadata": {
        "colab": {
          "base_uri": "https://localhost:8080/"
        },
        "id": "emQ2g0BAhZAP",
        "outputId": "7b92d0a5-a298-4b11-fb61-82f77b511e99"
      },
      "execution_count": 3,
      "outputs": [
        {
          "output_type": "stream",
          "name": "stdout",
          "text": [
            "0     Mango\n",
            "1    Banana\n",
            "2      Kiwi\n",
            "3     Apple\n",
            "dtype: object\n",
            "f1     Mango\n",
            "f2    Banana\n",
            "f3      Kiwi\n",
            "f4     Apple\n",
            "dtype: object\n",
            "f1     Mango\n",
            "f2    Banana\n",
            "f3      Kiwi\n",
            "f4     Apple\n",
            "dtype: object\n",
            "f1     Mango\n",
            "f2    Banana\n",
            "dtype: object\n"
          ]
        }
      ]
    },
    {
      "cell_type": "code",
      "source": [
        "#DataFrame (Tables)\n",
        "\n",
        "data={\"Fruits\":[\"Mango\",\"Banana\",\"Kiwi\",\"Apple\"],\n",
        "      \"Color\":[\"Yellow\",\"Yellow\",\"Green\",\"Red\"]\n",
        "      }\n",
        "\n",
        "df=pd.DataFrame(data) #index is provided by default\n",
        "print(\"Print1 : \",df)\n",
        "\n",
        "print(\"Print2 : \",df.loc[1]) # loc is used to locate row (returns a Pandas Series)\n",
        "print(\"Print3 :\", df.loc[[0,1]])  #returns a pandas dataframe\n",
        "\n",
        "df=pd.DataFrame(data,index=[\"entry1\",\"entry2\",\"entry3\",\"entry4\"])\n",
        "print(\"Print4:\", df)\n",
        "\n",
        "print(\"Printr5:\", df.loc[\"entry1\"])\n",
        "\n",
        "df=pd.read_csv('data.csv') #reading a csv file\n",
        "print(\"Print6:\", df)\n",
        "#print(df.to_string()) #to_string is used to print the entire df\n",
        "\n",
        "print(pd.options.display.max_rows) #if the no of rows in the df is more than max_rows then print will display only top 5 and last 5 rows\n",
        " \n",
        "#we can increase the no of max_rows\n",
        "pd.options.display.max_rows=100\n",
        "\n",
        "#in similar fashion json file and python dictionary can be converted to dataframe\n",
        "\n"
      ],
      "metadata": {
        "colab": {
          "base_uri": "https://localhost:8080/"
        },
        "id": "3JyRzHCQiSuM",
        "outputId": "fc954e97-5307-48de-cae8-09009aa1452d"
      },
      "execution_count": 9,
      "outputs": [
        {
          "output_type": "stream",
          "name": "stdout",
          "text": [
            "Print1 :     Fruits   Color\n",
            "0   Mango  Yellow\n",
            "1  Banana  Yellow\n",
            "2    Kiwi   Green\n",
            "3   Apple     Red\n",
            "Print2 :  Fruits    Banana\n",
            "Color     Yellow\n",
            "Name: 1, dtype: object\n",
            "Print3 :    Fruits   Color\n",
            "0   Mango  Yellow\n",
            "1  Banana  Yellow\n",
            "Print4:         Fruits   Color\n",
            "entry1   Mango  Yellow\n",
            "entry2  Banana  Yellow\n",
            "entry3    Kiwi   Green\n",
            "entry4   Apple     Red\n",
            "Printr5: Fruits     Mango\n",
            "Color     Yellow\n",
            "Name: entry1, dtype: object\n",
            "Print6:      Duration  Pulse  Maxpulse  Calories\n",
            "0          60    110       130     409.1\n",
            "1          60    117       145     479.0\n",
            "2          60    103       135     340.0\n",
            "3          45    109       175     282.4\n",
            "4          45    117       148     406.0\n",
            "..        ...    ...       ...       ...\n",
            "164        60    105       140     290.8\n",
            "165        60    110       145     300.0\n",
            "166        60    115       145     310.2\n",
            "167        75    120       150     320.4\n",
            "168        75    125       150     330.4\n",
            "\n",
            "[169 rows x 4 columns]\n",
            "60\n"
          ]
        }
      ]
    },
    {
      "cell_type": "code",
      "source": [],
      "metadata": {
        "id": "M4AF-GinzyUc"
      },
      "execution_count": null,
      "outputs": []
    }
  ]
}